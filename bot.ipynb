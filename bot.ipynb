{
 "cells": [
  {
   "cell_type": "code",
   "execution_count": null,
   "id": "d93af9f5",
   "metadata": {},
   "outputs": [],
   "source": [
    "import re\n",
    "import random"
   ]
  },
  {
   "cell_type": "code",
   "execution_count": null,
   "id": "474e4274",
   "metadata": {},
   "outputs": [],
   "source": [
    "class RuleBot:\n",
    "    ### negative responses\n",
    "    negative_responses = (\"no\", \"nah\", \"naw\", \"not a chance\", \"sorry\")\n",
    "    ###exi keywords\n",
    "    exit_commands = (\"quit\", \"pause\", \"exit\", \"goodbye\", \"bye\", \"later\")\n",
    "    ### random starter question\n",
    "    random_questions =(\n",
    "        \"how can i help you\"\n",
    "        \"how are you doing\"\n",
    "        \"do you need my help in anyway\"\n",
    "        \"what would you like to talk about\"\n",
    "    )\n",
    "    def __init__(self):\n",
    "        self.therapy = {'describe_mood_intent': r'.*\\s*your mood.*',\n",
    "                            'answer_why_intent': r'why\\sare.*',\n",
    "                            'about_mbti': r'.*\\s*mbti',\n",
    "        }\n",
    "\n",
    "    def greet(self):\n",
    "        self.name = input(\"whats your name?\\n\")\n",
    "        will_help = input(\n",
    "            f\"Hi {self.name}, I am rule-bot. You can talk to me about why you need therapy?\\n\")\n",
    "\n",
    "        if will_help in self.negative_responses:\n",
    "            print(\"okay, you can come back to me anytime you want\")\n",
    "            return\n",
    "        self.chat()\n",
    "        \n",
    "                        \n",
    "\n",
    "\n",
    "        \n"
   ]
  },
  {
   "cell_type": "code",
   "execution_count": null,
   "id": "81fd2485",
   "metadata": {},
   "outputs": [],
   "source": []
  }
 ],
 "metadata": {
  "kernelspec": {
   "display_name": "Python 3",
   "language": "python",
   "name": "python3"
  },
  "language_info": {
   "codemirror_mode": {
    "name": "ipython",
    "version": 3
   },
   "file_extension": ".py",
   "mimetype": "text/x-python",
   "name": "python",
   "nbconvert_exporter": "python",
   "pygments_lexer": "ipython3",
   "version": "3.12.10"
  }
 },
 "nbformat": 4,
 "nbformat_minor": 5
}
